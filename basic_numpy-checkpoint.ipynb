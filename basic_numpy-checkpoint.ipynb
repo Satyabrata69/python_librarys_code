{
 "cells": [
  {
   "cell_type": "code",
   "execution_count": 1,
   "id": "4c9fa311-d1fe-438a-a453-cc791222a050",
   "metadata": {},
   "outputs": [],
   "source": [
    "import numpy as np"
   ]
  },
  {
   "cell_type": "markdown",
   "id": "37548a92-01a6-4e3e-bb61-9f329662f722",
   "metadata": {},
   "source": [
    "# basic numpy"
   ]
  },
  {
   "cell_type": "code",
   "execution_count": 2,
   "id": "c97849cc-1e89-4537-937e-eb606d0b578b",
   "metadata": {},
   "outputs": [],
   "source": [
    "myarr=np.array([[3,10,40,50,70]])"
   ]
  },
  {
   "cell_type": "code",
   "execution_count": 3,
   "id": "591587f4-10c7-455a-a9da-a1ddad7cc87e",
   "metadata": {},
   "outputs": [
    {
     "name": "stdout",
     "output_type": "stream",
     "text": [
      "[[ 3 10 40 50 70]]\n"
     ]
    }
   ],
   "source": [
    "print(myarr)"
   ]
  },
  {
   "cell_type": "code",
   "execution_count": 4,
   "id": "e29a2d93-fe34-4597-b50b-e7115b40c8fc",
   "metadata": {},
   "outputs": [],
   "source": [
    "myarr[0,1]=15"
   ]
  },
  {
   "cell_type": "code",
   "execution_count": 5,
   "id": "a101cfff-8a74-4a88-8f8d-276e6e89bff6",
   "metadata": {},
   "outputs": [
    {
     "data": {
      "text/plain": [
       "array([[ 3, 15, 40, 50, 70]])"
      ]
     },
     "execution_count": 5,
     "metadata": {},
     "output_type": "execute_result"
    }
   ],
   "source": [
    "myarr"
   ]
  },
  {
   "cell_type": "code",
   "execution_count": 6,
   "id": "21488d3a-700e-4653-a31f-00b0ba393436",
   "metadata": {},
   "outputs": [],
   "source": [
    "myarr2=np.array([[1,2,3,4],[5,6,7,8,],[3,5,7,9]])"
   ]
  },
  {
   "cell_type": "code",
   "execution_count": 7,
   "id": "c32aebe6-c87d-44bd-a4fe-3ab539c4b0fa",
   "metadata": {},
   "outputs": [
    {
     "name": "stdout",
     "output_type": "stream",
     "text": [
      "[[1 2 3 4]\n",
      " [5 6 7 8]\n",
      " [3 5 7 9]]\n"
     ]
    }
   ],
   "source": [
    "print(myarr2)"
   ]
  },
  {
   "cell_type": "markdown",
   "id": "1b2d24ad-afb9-4691-a36b-11e820c1ce6c",
   "metadata": {},
   "source": [
    "# use of attribute shape funtion"
   ]
  },
  {
   "cell_type": "code",
   "execution_count": 8,
   "id": "d3665955-5209-41cd-9048-32378e5c4796",
   "metadata": {},
   "outputs": [
    {
     "data": {
      "text/plain": [
       "(1, 5)"
      ]
     },
     "execution_count": 8,
     "metadata": {},
     "output_type": "execute_result"
    }
   ],
   "source": [
    "myarr.shape"
   ]
  },
  {
   "cell_type": "code",
   "execution_count": 9,
   "id": "3bb9a48e-6a7d-4b90-86c0-54e9dcb41d1e",
   "metadata": {},
   "outputs": [
    {
     "data": {
      "text/plain": [
       "(3, 4)"
      ]
     },
     "execution_count": 9,
     "metadata": {},
     "output_type": "execute_result"
    }
   ],
   "source": [
    "myarr2.shape"
   ]
  },
  {
   "cell_type": "markdown",
   "id": "d552e8e4-c433-4872-a4b1-8f84d66d1f7f",
   "metadata": {},
   "source": [
    "# showing the dtype funtion"
   ]
  },
  {
   "cell_type": "code",
   "execution_count": 10,
   "id": "ce1653e7-7a9b-455c-b965-0a6975b99266",
   "metadata": {},
   "outputs": [],
   "source": [
    "myarr1=np.array([1,2,3,4,5], np.int16)"
   ]
  },
  {
   "cell_type": "code",
   "execution_count": 11,
   "id": "46bc005d-18df-4189-8159-f77283bb4266",
   "metadata": {},
   "outputs": [
    {
     "name": "stdout",
     "output_type": "stream",
     "text": [
      "[1 2 3 4 5]\n"
     ]
    }
   ],
   "source": [
    "print(myarr1)"
   ]
  },
  {
   "cell_type": "code",
   "execution_count": 12,
   "id": "0d4e6e49-24e3-46f7-bafb-621ca0d3363e",
   "metadata": {},
   "outputs": [
    {
     "data": {
      "text/plain": [
       "array([1, 2, 3, 4, 5], dtype=int16)"
      ]
     },
     "execution_count": 12,
     "metadata": {},
     "output_type": "execute_result"
    }
   ],
   "source": [
    "myarr1"
   ]
  },
  {
   "cell_type": "code",
   "execution_count": 13,
   "id": "ddba775f-6da0-4e13-8b2e-93d7dbc00ecc",
   "metadata": {},
   "outputs": [
    {
     "data": {
      "text/plain": [
       "dtype('int64')"
      ]
     },
     "execution_count": 13,
     "metadata": {},
     "output_type": "execute_result"
    }
   ],
   "source": [
    "myarr2.dtype"
   ]
  },
  {
   "cell_type": "code",
   "execution_count": 14,
   "id": "2d4f92f8-96c0-4031-b0bb-727b4d7d2a18",
   "metadata": {},
   "outputs": [
    {
     "data": {
      "text/plain": [
       "dtype('int16')"
      ]
     },
     "execution_count": 14,
     "metadata": {},
     "output_type": "execute_result"
    }
   ],
   "source": [
    "myarr1.dtype"
   ]
  },
  {
   "cell_type": "code",
   "execution_count": 15,
   "id": "3802a816-92a2-4d0c-88c4-d14b404d5722",
   "metadata": {},
   "outputs": [
    {
     "data": {
      "text/plain": [
       "dtype('int64')"
      ]
     },
     "execution_count": 15,
     "metadata": {},
     "output_type": "execute_result"
    }
   ],
   "source": [
    "myarr.dtype"
   ]
  },
  {
   "cell_type": "markdown",
   "id": "3217df1f-f119-40c9-8057-9e93198d7d43",
   "metadata": {},
   "source": [
    "# Intrinsic numpy array creation objects"
   ]
  },
  {
   "cell_type": "code",
   "execution_count": 16,
   "id": "7a6901ea-958b-4705-b4ea-788180b8ab37",
   "metadata": {},
   "outputs": [
    {
     "data": {
      "text/plain": [
       "array([[1., 1., 1., 1., 1.],\n",
       "       [1., 1., 1., 1., 1.],\n",
       "       [1., 1., 1., 1., 1.]])"
      ]
     },
     "execution_count": 16,
     "metadata": {},
     "output_type": "execute_result"
    }
   ],
   "source": [
    "np.ones((3,5))"
   ]
  },
  {
   "cell_type": "code",
   "execution_count": 17,
   "id": "0a7822f1-6cb6-4272-b0d0-6265385198b2",
   "metadata": {},
   "outputs": [
    {
     "data": {
      "text/plain": [
       "array([[0., 0., 0., 0.],\n",
       "       [0., 0., 0., 0.],\n",
       "       [0., 0., 0., 0.],\n",
       "       [0., 0., 0., 0.]])"
      ]
     },
     "execution_count": 17,
     "metadata": {},
     "output_type": "execute_result"
    }
   ],
   "source": [
    "np.zeros((4,4))"
   ]
  },
  {
   "cell_type": "code",
   "execution_count": 18,
   "id": "45e6588d-5e86-4b8d-8921-37180a1a87d1",
   "metadata": {},
   "outputs": [],
   "source": [
    "ran=np.arange(15)"
   ]
  },
  {
   "cell_type": "code",
   "execution_count": 19,
   "id": "962c8721-bd8e-4be4-8997-c3320e761582",
   "metadata": {},
   "outputs": [
    {
     "data": {
      "text/plain": [
       "array([ 0,  1,  2,  3,  4,  5,  6,  7,  8,  9, 10, 11, 12, 13, 14])"
      ]
     },
     "execution_count": 19,
     "metadata": {},
     "output_type": "execute_result"
    }
   ],
   "source": [
    "ran"
   ]
  },
  {
   "cell_type": "code",
   "execution_count": 20,
   "id": "52f47893-f552-4ba3-b13f-70358df7062f",
   "metadata": {},
   "outputs": [],
   "source": [
    "space=np.linspace(1,10,20)"
   ]
  },
  {
   "cell_type": "code",
   "execution_count": 21,
   "id": "8ddf5a43-bcfb-4db0-bdc8-a45ddaf3c7be",
   "metadata": {},
   "outputs": [
    {
     "data": {
      "text/plain": [
       "array([ 1.        ,  1.47368421,  1.94736842,  2.42105263,  2.89473684,\n",
       "        3.36842105,  3.84210526,  4.31578947,  4.78947368,  5.26315789,\n",
       "        5.73684211,  6.21052632,  6.68421053,  7.15789474,  7.63157895,\n",
       "        8.10526316,  8.57894737,  9.05263158,  9.52631579, 10.        ])"
      ]
     },
     "execution_count": 21,
     "metadata": {},
     "output_type": "execute_result"
    }
   ],
   "source": [
    "space"
   ]
  },
  {
   "cell_type": "code",
   "execution_count": 23,
   "id": "a9e22777-ff4c-4dd3-9eee-aab1b347308d",
   "metadata": {},
   "outputs": [],
   "source": [
    "emp=np.empty((6,6))"
   ]
  },
  {
   "cell_type": "code",
   "execution_count": 24,
   "id": "d1fece6c-0b12-413b-a516-288b95239af6",
   "metadata": {},
   "outputs": [
    {
     "data": {
      "text/plain": [
       "array([[4.67296746e-307, 1.69121096e-306, 1.78019082e-306,\n",
       "        1.60218627e-306, 4.45055939e-308, 7.56599128e-307],\n",
       "       [6.23053614e-307, 2.22526399e-307, 6.23053614e-307,\n",
       "        7.56592338e-307, 1.60216183e-306, 7.56602523e-307],\n",
       "       [3.56043054e-307, 1.37961641e-306, 2.22518251e-306,\n",
       "        1.33511969e-306, 6.23037657e-307, 6.23053954e-307],\n",
       "       [9.34609790e-307, 8.45593934e-307, 9.34600963e-307,\n",
       "        9.34598925e-307, 1.42418715e-306, 1.95819401e-306],\n",
       "       [1.37961370e-306, 6.23054633e-307, 9.34598926e-307,\n",
       "        1.42417221e-306, 1.95820216e-306, 1.24611741e-306],\n",
       "       [1.33511562e-306, 1.11260891e-306, 1.00136557e-307,\n",
       "        8.01095173e-307, 1.42410974e-306, 1.42410974e-306]])"
      ]
     },
     "execution_count": 24,
     "metadata": {},
     "output_type": "execute_result"
    }
   ],
   "source": [
    "emp"
   ]
  },
  {
   "cell_type": "code",
   "execution_count": 25,
   "id": "a0f7e640-9cb8-41c0-9bf6-aeb9a150bab5",
   "metadata": {},
   "outputs": [],
   "source": [
    "emp_like=np.empty_like(space)"
   ]
  },
  {
   "cell_type": "code",
   "execution_count": 26,
   "id": "dfa1847c-1b33-44c5-bdcc-89dfd52b9fc1",
   "metadata": {},
   "outputs": [
    {
     "data": {
      "text/plain": [
       "array([ 1.        ,  1.47368421,  1.94736842,  2.42105263,  2.89473684,\n",
       "        3.36842105,  3.84210526,  4.31578947,  4.78947368,  5.26315789,\n",
       "        5.73684211,  6.21052632,  6.68421053,  7.15789474,  7.63157895,\n",
       "        8.10526316,  8.57894737,  9.05263158,  9.52631579, 10.        ])"
      ]
     },
     "execution_count": 26,
     "metadata": {},
     "output_type": "execute_result"
    }
   ],
   "source": [
    "emp_like"
   ]
  },
  {
   "cell_type": "code",
   "execution_count": 28,
   "id": "d96a32f8-fd78-4b78-bc46-131a6d8f31e8",
   "metadata": {},
   "outputs": [],
   "source": [
    "ide=np.identity(15)"
   ]
  },
  {
   "cell_type": "code",
   "execution_count": 31,
   "id": "391caccd-d2ef-40fd-8cec-0a2170ac948e",
   "metadata": {},
   "outputs": [
    {
     "data": {
      "text/plain": [
       "array([[1., 0., 0., 0., 0., 0., 0., 0., 0., 0., 0., 0., 0., 0., 0.],\n",
       "       [0., 1., 0., 0., 0., 0., 0., 0., 0., 0., 0., 0., 0., 0., 0.],\n",
       "       [0., 0., 1., 0., 0., 0., 0., 0., 0., 0., 0., 0., 0., 0., 0.],\n",
       "       [0., 0., 0., 1., 0., 0., 0., 0., 0., 0., 0., 0., 0., 0., 0.],\n",
       "       [0., 0., 0., 0., 1., 0., 0., 0., 0., 0., 0., 0., 0., 0., 0.],\n",
       "       [0., 0., 0., 0., 0., 1., 0., 0., 0., 0., 0., 0., 0., 0., 0.],\n",
       "       [0., 0., 0., 0., 0., 0., 1., 0., 0., 0., 0., 0., 0., 0., 0.],\n",
       "       [0., 0., 0., 0., 0., 0., 0., 1., 0., 0., 0., 0., 0., 0., 0.],\n",
       "       [0., 0., 0., 0., 0., 0., 0., 0., 1., 0., 0., 0., 0., 0., 0.],\n",
       "       [0., 0., 0., 0., 0., 0., 0., 0., 0., 1., 0., 0., 0., 0., 0.],\n",
       "       [0., 0., 0., 0., 0., 0., 0., 0., 0., 0., 1., 0., 0., 0., 0.],\n",
       "       [0., 0., 0., 0., 0., 0., 0., 0., 0., 0., 0., 1., 0., 0., 0.],\n",
       "       [0., 0., 0., 0., 0., 0., 0., 0., 0., 0., 0., 0., 1., 0., 0.],\n",
       "       [0., 0., 0., 0., 0., 0., 0., 0., 0., 0., 0., 0., 0., 1., 0.],\n",
       "       [0., 0., 0., 0., 0., 0., 0., 0., 0., 0., 0., 0., 0., 0., 1.]])"
      ]
     },
     "execution_count": 31,
     "metadata": {},
     "output_type": "execute_result"
    }
   ],
   "source": [
    "ide"
   ]
  },
  {
   "cell_type": "code",
   "execution_count": 32,
   "id": "bcc7d7e5-a72e-4909-8680-611bfd7d8be1",
   "metadata": {},
   "outputs": [
    {
     "data": {
      "text/plain": [
       "(15, 15)"
      ]
     },
     "execution_count": 32,
     "metadata": {},
     "output_type": "execute_result"
    }
   ],
   "source": [
    "np.shape(ide)"
   ]
  },
  {
   "cell_type": "code",
   "execution_count": 33,
   "id": "662d8c28-94ec-42f5-b1d0-81b75bce6c7e",
   "metadata": {},
   "outputs": [],
   "source": [
    "arr=np.arange(99)"
   ]
  },
  {
   "cell_type": "code",
   "execution_count": 34,
   "id": "10ea61d3-f9eb-47af-ad53-0573740e53d3",
   "metadata": {},
   "outputs": [
    {
     "data": {
      "text/plain": [
       "array([ 0,  1,  2,  3,  4,  5,  6,  7,  8,  9, 10, 11, 12, 13, 14, 15, 16,\n",
       "       17, 18, 19, 20, 21, 22, 23, 24, 25, 26, 27, 28, 29, 30, 31, 32, 33,\n",
       "       34, 35, 36, 37, 38, 39, 40, 41, 42, 43, 44, 45, 46, 47, 48, 49, 50,\n",
       "       51, 52, 53, 54, 55, 56, 57, 58, 59, 60, 61, 62, 63, 64, 65, 66, 67,\n",
       "       68, 69, 70, 71, 72, 73, 74, 75, 76, 77, 78, 79, 80, 81, 82, 83, 84,\n",
       "       85, 86, 87, 88, 89, 90, 91, 92, 93, 94, 95, 96, 97, 98])"
      ]
     },
     "execution_count": 34,
     "metadata": {},
     "output_type": "execute_result"
    }
   ],
   "source": [
    "arr"
   ]
  },
  {
   "cell_type": "code",
   "execution_count": 42,
   "id": "dec895e3-f762-45c1-a827-8e88d517a71f",
   "metadata": {},
   "outputs": [],
   "source": [
    "arr=arr.reshape((3,33))"
   ]
  },
  {
   "cell_type": "code",
   "execution_count": 43,
   "id": "405fc5a6-2954-48a8-9842-9825f80ef528",
   "metadata": {},
   "outputs": [
    {
     "data": {
      "text/plain": [
       "array([[ 0,  1,  2,  3,  4,  5,  6,  7,  8,  9, 10, 11, 12, 13, 14, 15,\n",
       "        16, 17, 18, 19, 20, 21, 22, 23, 24, 25, 26, 27, 28, 29, 30, 31,\n",
       "        32],\n",
       "       [33, 34, 35, 36, 37, 38, 39, 40, 41, 42, 43, 44, 45, 46, 47, 48,\n",
       "        49, 50, 51, 52, 53, 54, 55, 56, 57, 58, 59, 60, 61, 62, 63, 64,\n",
       "        65],\n",
       "       [66, 67, 68, 69, 70, 71, 72, 73, 74, 75, 76, 77, 78, 79, 80, 81,\n",
       "        82, 83, 84, 85, 86, 87, 88, 89, 90, 91, 92, 93, 94, 95, 96, 97,\n",
       "        98]])"
      ]
     },
     "execution_count": 43,
     "metadata": {},
     "output_type": "execute_result"
    }
   ],
   "source": [
    "arr"
   ]
  },
  {
   "cell_type": "code",
   "execution_count": 94,
   "id": "564bcd4e-046f-4344-b028-00a76f89b151",
   "metadata": {},
   "outputs": [
    {
     "data": {
      "text/plain": [
       "array([<built-in method ravel of numpy.ndarray object at 0x000001BF6CFC6970>],\n",
       "      dtype=object)"
      ]
     },
     "execution_count": 94,
     "metadata": {},
     "output_type": "execute_result"
    }
   ],
   "source": [
    "arr.ravel()"
   ]
  },
  {
   "cell_type": "markdown",
   "id": "aa815d82-a533-4404-8536-faee0b5a2e0e",
   "metadata": {},
   "source": [
    "# array axis"
   ]
  },
  {
   "cell_type": "code",
   "execution_count": 64,
   "id": "32127e7c-f679-4b8a-b916-4ea983771752",
   "metadata": {},
   "outputs": [
    {
     "data": {
      "text/plain": [
       "array([[1, 2, 3],\n",
       "       [4, 5, 6],\n",
       "       [7, 8, 9]])"
      ]
     },
     "execution_count": 64,
     "metadata": {},
     "output_type": "execute_result"
    }
   ],
   "source": [
    "x=[[1,2,3],[4,5,6],[7,8,9]]\n",
    "arr2=np.array(x)\n",
    "arr2"
   ]
  },
  {
   "cell_type": "code",
   "execution_count": 65,
   "id": "f1b6850a-9fce-4100-8cd5-1e9c6ccf19a7",
   "metadata": {},
   "outputs": [
    {
     "data": {
      "text/plain": [
       "array([12, 15, 18])"
      ]
     },
     "execution_count": 65,
     "metadata": {},
     "output_type": "execute_result"
    }
   ],
   "source": [
    "arr2.sum(axis=0)"
   ]
  },
  {
   "cell_type": "code",
   "execution_count": 66,
   "id": "6bb3ed30-7423-4ae4-8d9e-6e0d272c67cf",
   "metadata": {},
   "outputs": [
    {
     "data": {
      "text/plain": [
       "array([ 6, 15, 24])"
      ]
     },
     "execution_count": 66,
     "metadata": {},
     "output_type": "execute_result"
    }
   ],
   "source": [
    "arr2.sum(axis=1)"
   ]
  },
  {
   "cell_type": "code",
   "execution_count": 67,
   "id": "a5ddcbd9-1182-4149-b6de-595d0fb7e76d",
   "metadata": {},
   "outputs": [
    {
     "data": {
      "text/plain": [
       "array([[1, 4, 7],\n",
       "       [2, 5, 8],\n",
       "       [3, 6, 9]])"
      ]
     },
     "execution_count": 67,
     "metadata": {},
     "output_type": "execute_result"
    }
   ],
   "source": [
    "# transpose a matrix\n",
    "arr2.T"
   ]
  },
  {
   "cell_type": "code",
   "execution_count": 68,
   "id": "d45f95d1-23b4-4755-97ed-8f21b1316712",
   "metadata": {},
   "outputs": [
    {
     "name": "stdout",
     "output_type": "stream",
     "text": [
      "1\n",
      "2\n",
      "3\n",
      "4\n",
      "5\n",
      "6\n",
      "7\n",
      "8\n",
      "9\n"
     ]
    }
   ],
   "source": [
    "# flat funtion:use for printing all matrix element in flated way.\n",
    "for item in arr2.flat:\n",
    "    print(item)"
   ]
  },
  {
   "cell_type": "code",
   "execution_count": 69,
   "id": "b709b176-4468-471f-864d-03103d55e822",
   "metadata": {},
   "outputs": [
    {
     "data": {
      "text/plain": [
       "2"
      ]
     },
     "execution_count": 69,
     "metadata": {},
     "output_type": "execute_result"
    }
   ],
   "source": [
    "# printing the arrays dimenction.\n",
    "arr2.ndim"
   ]
  },
  {
   "cell_type": "code",
   "execution_count": 71,
   "id": "5ea03bcc-32fa-44a4-8d73-fcfbf622f7b2",
   "metadata": {},
   "outputs": [
    {
     "data": {
      "text/plain": [
       "9"
      ]
     },
     "execution_count": 71,
     "metadata": {},
     "output_type": "execute_result"
    }
   ],
   "source": [
    "# printing the array size:-\n",
    "arr2.size"
   ]
  },
  {
   "cell_type": "code",
   "execution_count": 72,
   "id": "1467f663-7519-454c-93c4-ccc60e9e6f8d",
   "metadata": {},
   "outputs": [
    {
     "data": {
      "text/plain": [
       "72"
      ]
     },
     "execution_count": 72,
     "metadata": {},
     "output_type": "execute_result"
    }
   ],
   "source": [
    "# printing the total byte consume by a array.\n",
    "arr2.nbytes"
   ]
  },
  {
   "cell_type": "code",
   "execution_count": 75,
   "id": "d00d8812-6b48-4671-9010-c555a0dd4882",
   "metadata": {},
   "outputs": [
    {
     "name": "stdout",
     "output_type": "stream",
     "text": [
      "8\n"
     ]
    }
   ],
   "source": [
    "# printing the maximum element positon.(its a method)\n",
    "print(arr2.argmax())"
   ]
  },
  {
   "cell_type": "code",
   "execution_count": 83,
   "id": "af9afa3b-246f-4ab5-a4fb-a38f544dae64",
   "metadata": {},
   "outputs": [
    {
     "data": {
      "text/plain": [
       "array([2, 0, 6, 4, 5, 1, 3])"
      ]
     },
     "execution_count": 83,
     "metadata": {},
     "output_type": "execute_result"
    }
   ],
   "source": [
    "# printing the element position in sorted way.\n",
    "one=np.array([4,7,2,9,6,7,5])\n",
    "one.argsort()"
   ]
  },
  {
   "cell_type": "code",
   "execution_count": 86,
   "id": "cafcbbcc-3559-4b08-9aff-541857455afb",
   "metadata": {},
   "outputs": [
    {
     "name": "stdout",
     "output_type": "stream",
     "text": [
      "0\n"
     ]
    }
   ],
   "source": [
    "# printing the minimum element positon.(its a method)\n",
    "print(arr2.argmin())"
   ]
  },
  {
   "cell_type": "code",
   "execution_count": 88,
   "id": "26216ae7-6290-43ef-9cab-72007ca34784",
   "metadata": {},
   "outputs": [
    {
     "name": "stdout",
     "output_type": "stream",
     "text": [
      "[2 2 2]\n"
     ]
    }
   ],
   "source": [
    "print(arr2.argmax(axis=0))"
   ]
  },
  {
   "cell_type": "code",
   "execution_count": 89,
   "id": "4bc8b11d-097e-4dc7-a8d1-5c8ab70706af",
   "metadata": {},
   "outputs": [
    {
     "name": "stdout",
     "output_type": "stream",
     "text": [
      "[2 2 2]\n"
     ]
    }
   ],
   "source": [
    "print(arr2.argmax(axis=1))"
   ]
  },
  {
   "cell_type": "code",
   "execution_count": 90,
   "id": "786a9a68-29e1-45db-80b3-5302c45d7efe",
   "metadata": {},
   "outputs": [
    {
     "name": "stdout",
     "output_type": "stream",
     "text": [
      "[[1 2 3]\n",
      " [4 5 6]\n",
      " [7 8 9]]\n"
     ]
    }
   ],
   "source": [
    "print(arr2)"
   ]
  },
  {
   "cell_type": "code",
   "execution_count": 92,
   "id": "679bf39a-a58d-4cd3-99c7-8bff6dabe5b0",
   "metadata": {},
   "outputs": [
    {
     "name": "stdout",
     "output_type": "stream",
     "text": [
      "[[0 0 0]\n",
      " [1 1 1]\n",
      " [2 2 2]]\n"
     ]
    }
   ],
   "source": [
    "print(arr2.argsort(axis=0))"
   ]
  },
  {
   "cell_type": "code",
   "execution_count": 93,
   "id": "aaa4f5de-341f-4eab-a381-a5d4bc7a8bb7",
   "metadata": {},
   "outputs": [
    {
     "data": {
      "text/plain": [
       "array([1, 2, 3, 4, 5, 6, 7, 8, 9])"
      ]
     },
     "execution_count": 93,
     "metadata": {},
     "output_type": "execute_result"
    }
   ],
   "source": [
    "arr2.ravel()"
   ]
  },
  {
   "cell_type": "code",
   "execution_count": 95,
   "id": "3b5e1237-8154-4790-bdf5-c27963002a4d",
   "metadata": {},
   "outputs": [
    {
     "data": {
      "text/plain": [
       "array([[1],\n",
       "       [2],\n",
       "       [3],\n",
       "       [4],\n",
       "       [5],\n",
       "       [6],\n",
       "       [7],\n",
       "       [8],\n",
       "       [9]])"
      ]
     },
     "execution_count": 95,
     "metadata": {},
     "output_type": "execute_result"
    }
   ],
   "source": [
    "arr2.reshape((9,1))"
   ]
  },
  {
   "cell_type": "markdown",
   "id": "f415b733-1425-487e-80c1-4e2f08b75339",
   "metadata": {},
   "source": [
    "# numpy mathematical operation:"
   ]
  },
  {
   "cell_type": "code",
   "execution_count": 97,
   "id": "b2bd8424-76e9-4c2f-92eb-fb99f6c1e306",
   "metadata": {},
   "outputs": [],
   "source": [
    "ar1=np.array([[3,2,5],[3,2,1],[1,3,2]])\n",
    "ar2=np.array([[4,2,3],[1,2,3],[3,2,1]])"
   ]
  },
  {
   "cell_type": "code",
   "execution_count": 99,
   "id": "c3e30562-d7bc-40ab-8a31-a57cc6a8198d",
   "metadata": {},
   "outputs": [
    {
     "data": {
      "text/plain": [
       "array([[7, 4, 8],\n",
       "       [4, 4, 4],\n",
       "       [4, 5, 3]])"
      ]
     },
     "execution_count": 99,
     "metadata": {},
     "output_type": "execute_result"
    }
   ],
   "source": [
    "ar1+ar2"
   ]
  },
  {
   "cell_type": "code",
   "execution_count": 100,
   "id": "7324489a-b838-4511-a721-86f62581f748",
   "metadata": {},
   "outputs": [
    {
     "data": {
      "text/plain": [
       "array([[-1,  0,  2],\n",
       "       [ 2,  0, -2],\n",
       "       [-2,  1,  1]])"
      ]
     },
     "execution_count": 100,
     "metadata": {},
     "output_type": "execute_result"
    }
   ],
   "source": [
    "ar1-ar2"
   ]
  },
  {
   "cell_type": "code",
   "execution_count": 101,
   "id": "be1738b7-5dfd-4eac-8b5c-9556f5c7e7df",
   "metadata": {},
   "outputs": [
    {
     "data": {
      "text/plain": [
       "array([[12,  4, 15],\n",
       "       [ 3,  4,  3],\n",
       "       [ 3,  6,  2]])"
      ]
     },
     "execution_count": 101,
     "metadata": {},
     "output_type": "execute_result"
    }
   ],
   "source": [
    "ar1*ar2"
   ]
  },
  {
   "cell_type": "code",
   "execution_count": 102,
   "id": "65d6bc92-8cf9-4e53-b779-4b643bdf7ed5",
   "metadata": {},
   "outputs": [
    {
     "data": {
      "text/plain": [
       "array([[1.73205081, 1.41421356, 2.23606798],\n",
       "       [1.73205081, 1.41421356, 1.        ],\n",
       "       [1.        , 1.73205081, 1.41421356]])"
      ]
     },
     "execution_count": 102,
     "metadata": {},
     "output_type": "execute_result"
    }
   ],
   "source": [
    "np.sqrt(ar1)"
   ]
  },
  {
   "cell_type": "code",
   "execution_count": 103,
   "id": "c0a6ad58-f6ef-48b5-ab66-d1503fc77768",
   "metadata": {},
   "outputs": [
    {
     "data": {
      "text/plain": [
       "np.int64(5)"
      ]
     },
     "execution_count": 103,
     "metadata": {},
     "output_type": "execute_result"
    }
   ],
   "source": [
    "ar1.max()"
   ]
  },
  {
   "cell_type": "code",
   "execution_count": 104,
   "id": "e094fff7-4124-4a3b-8fba-7fbc0302aabc",
   "metadata": {},
   "outputs": [
    {
     "data": {
      "text/plain": [
       "np.int64(1)"
      ]
     },
     "execution_count": 104,
     "metadata": {},
     "output_type": "execute_result"
    }
   ],
   "source": [
    "ar1.min()"
   ]
  },
  {
   "cell_type": "code",
   "execution_count": 105,
   "id": "f1724846-7498-489a-b2e9-d27511af6487",
   "metadata": {},
   "outputs": [
    {
     "data": {
      "text/plain": [
       "np.int64(22)"
      ]
     },
     "execution_count": 105,
     "metadata": {},
     "output_type": "execute_result"
    }
   ],
   "source": [
    "ar1.sum()"
   ]
  },
  {
   "cell_type": "code",
   "execution_count": 107,
   "id": "3a045329-674e-4f58-9cea-a795231e7c92",
   "metadata": {},
   "outputs": [
    {
     "data": {
      "text/plain": [
       "array([[3, 2, 5],\n",
       "       [3, 2, 1],\n",
       "       [1, 3, 2]])"
      ]
     },
     "execution_count": 107,
     "metadata": {},
     "output_type": "execute_result"
    }
   ],
   "source": [
    "ar1"
   ]
  },
  {
   "cell_type": "code",
   "execution_count": 113,
   "id": "e125afb1-b51c-4712-aa6b-1589939792bc",
   "metadata": {},
   "outputs": [
    {
     "data": {
      "text/plain": [
       "(array([0]), array([2]))"
      ]
     },
     "execution_count": 113,
     "metadata": {},
     "output_type": "execute_result"
    }
   ],
   "source": [
    "np.where(ar1>3)"
   ]
  },
  {
   "cell_type": "code",
   "execution_count": 117,
   "id": "95bf7633-cc08-48a3-85f1-a2ac5e4fd6bb",
   "metadata": {},
   "outputs": [
    {
     "data": {
      "text/plain": [
       "tuple"
      ]
     },
     "execution_count": 117,
     "metadata": {},
     "output_type": "execute_result"
    }
   ],
   "source": [
    "type(np.where(ar1>2))"
   ]
  },
  {
   "cell_type": "code",
   "execution_count": 116,
   "id": "a8efc62f-f551-4b9a-a1f1-f45a538ea0ac",
   "metadata": {},
   "outputs": [
    {
     "data": {
      "text/plain": [
       "9"
      ]
     },
     "execution_count": 116,
     "metadata": {},
     "output_type": "execute_result"
    }
   ],
   "source": [
    "np.count_nonzero(ar1)"
   ]
  },
  {
   "cell_type": "code",
   "execution_count": 118,
   "id": "14d3ad82-e402-41e8-8a5e-ea4909a8c0be",
   "metadata": {},
   "outputs": [
    {
     "data": {
      "text/plain": [
       "(array([0, 0, 0, 1, 1, 1, 2, 2, 2]), array([0, 1, 2, 0, 1, 2, 0, 1, 2]))"
      ]
     },
     "execution_count": 118,
     "metadata": {},
     "output_type": "execute_result"
    }
   ],
   "source": [
    "np.nonzero(ar1)"
   ]
  },
  {
   "cell_type": "code",
   "execution_count": 119,
   "id": "c3bf6c9f-fc05-4cdd-8333-1991e20fcdb2",
   "metadata": {},
   "outputs": [],
   "source": [
    "ar1[2,2]=0"
   ]
  },
  {
   "cell_type": "code",
   "execution_count": 120,
   "id": "64e4dbb9-c1f3-4340-a54a-6fffb88ef22c",
   "metadata": {},
   "outputs": [
    {
     "data": {
      "text/plain": [
       "(array([0, 0, 0, 1, 1, 1, 2, 2]), array([0, 1, 2, 0, 1, 2, 0, 1]))"
      ]
     },
     "execution_count": 120,
     "metadata": {},
     "output_type": "execute_result"
    }
   ],
   "source": [
    "np.nonzero(ar1)"
   ]
  },
  {
   "cell_type": "markdown",
   "id": "4917e734-67ab-4be9-a09e-ffdd0459bf7a",
   "metadata": {},
   "source": [
    "# check the size between list and numpy"
   ]
  },
  {
   "cell_type": "code",
   "execution_count": 121,
   "id": "ed995b60-0795-4ff9-a36b-3bef0002205d",
   "metadata": {},
   "outputs": [],
   "source": [
    "import sys"
   ]
  },
  {
   "cell_type": "code",
   "execution_count": 123,
   "id": "0a7f86ba-e66d-4b20-8fd4-2eba940ac2c4",
   "metadata": {},
   "outputs": [],
   "source": [
    "ch_li=[1,2,3,4]\n",
    "ch_np=np.array([1,2,3,4])"
   ]
  },
  {
   "cell_type": "code",
   "execution_count": 125,
   "id": "dd026422-9558-4667-a351-0b2100dfce84",
   "metadata": {},
   "outputs": [
    {
     "data": {
      "text/plain": [
       "112"
      ]
     },
     "execution_count": 125,
     "metadata": {},
     "output_type": "execute_result"
    }
   ],
   "source": [
    "sys.getsizeof(1)*len(ch_li)"
   ]
  },
  {
   "cell_type": "code",
   "execution_count": 126,
   "id": "f93307b8-cd65-4dd0-8ce2-001568903729",
   "metadata": {},
   "outputs": [
    {
     "data": {
      "text/plain": [
       "32"
      ]
     },
     "execution_count": 126,
     "metadata": {},
     "output_type": "execute_result"
    }
   ],
   "source": [
    "ch_np.itemsize*ch_np.size"
   ]
  },
  {
   "cell_type": "code",
   "execution_count": 128,
   "id": "6618370e-c1f4-4407-a7fd-22afee7f5e54",
   "metadata": {},
   "outputs": [
    {
     "data": {
      "text/plain": [
       "[1, 2, 3, 4]"
      ]
     },
     "execution_count": 128,
     "metadata": {},
     "output_type": "execute_result"
    }
   ],
   "source": [
    "# convert numpy to python list\n",
    "ch_np.tolist()"
   ]
  },
  {
   "cell_type": "code",
   "execution_count": null,
   "id": "3f4afe3d-b9d9-4ff9-8ebf-5af58bc0d93e",
   "metadata": {},
   "outputs": [],
   "source": []
  }
 ],
 "metadata": {
  "kernelspec": {
   "display_name": "Python 3 (ipykernel)",
   "language": "python",
   "name": "python3"
  },
  "language_info": {
   "codemirror_mode": {
    "name": "ipython",
    "version": 3
   },
   "file_extension": ".py",
   "mimetype": "text/x-python",
   "name": "python",
   "nbconvert_exporter": "python",
   "pygments_lexer": "ipython3",
   "version": "3.12.4"
  }
 },
 "nbformat": 4,
 "nbformat_minor": 5
}
